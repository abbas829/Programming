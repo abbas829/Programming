{
  "nbformat": 4,
  "nbformat_minor": 0,
  "metadata": {
    "colab": {
      "provenance": [],
      "authorship_tag": "ABX9TyMMLwTvd2UmKdVyYO4MvrGd",
      "include_colab_link": true
    },
    "kernelspec": {
      "name": "python3",
      "display_name": "Python 3"
    },
    "language_info": {
      "name": "python"
    }
  },
  "cells": [
    {
      "cell_type": "markdown",
      "metadata": {
        "id": "view-in-github",
        "colab_type": "text"
      },
      "source": [
        "<a href=\"https://colab.research.google.com/github/abbas829/istprogram/blob/main/PythonExercise.ipynb\" target=\"_parent\"><img src=\"https://colab.research.google.com/assets/colab-badge.svg\" alt=\"Open In Colab\"/></a>"
      ]
    },
    {
      "cell_type": "code",
      "execution_count": 1,
      "metadata": {
        "colab": {
          "base_uri": "https://localhost:8080/"
        },
        "id": "nmNX1a48Vs5f",
        "outputId": "9c35d11e-60c7-4cf9-86c6-5422743167e8"
      },
      "outputs": [
        {
          "output_type": "stream",
          "name": "stdout",
          "text": [
            "Python version\n",
            "3.10.12 (main, Nov 20 2023, 15:14:05) [GCC 11.4.0]\n",
            "Version info.\n",
            "sys.version_info(major=3, minor=10, micro=12, releaselevel='final', serial=0)\n"
          ]
        }
      ],
      "source": [
        "import sys\n",
        "print(\"Python version\")\n",
        "print(sys.version)\n",
        "print(\"Version info.\")\n",
        "print(sys.version_info)\n"
      ]
    },
    {
      "cell_type": "code",
      "source": [
        "import sys\n",
        "\n",
        "\n",
        "print(sys.version.split()[0])"
      ],
      "metadata": {
        "colab": {
          "base_uri": "https://localhost:8080/"
        },
        "id": "G46hguXSV59C",
        "outputId": "c4cc0028-d1bb-4202-bad9-abffaa6b1fee"
      },
      "execution_count": 2,
      "outputs": [
        {
          "output_type": "stream",
          "name": "stdout",
          "text": [
            "3.10.12\n"
          ]
        }
      ]
    },
    {
      "cell_type": "code",
      "source": [
        "# Create an empty list named result\n",
        "result = []\n",
        "\n",
        "# Add elements to the list using append() method\n",
        "result.append(34)\n",
        "result.append(1.5)\n",
        "result.append(True)\n",
        "result.append('report.csv')\n",
        "\n",
        "# Print the list to the console\n",
        "print(result)\n"
      ],
      "metadata": {
        "colab": {
          "base_uri": "https://localhost:8080/"
        },
        "id": "hPqsCsWaaYnz",
        "outputId": "5f9afff2-89b4-4820-a7e5-a9d0d14b3cfe"
      },
      "execution_count": 3,
      "outputs": [
        {
          "output_type": "stream",
          "name": "stdout",
          "text": [
            "[34, 1.5, True, 'report.csv']\n"
          ]
        }
      ]
    },
    {
      "cell_type": "code",
      "source": [
        "techs = ['python', 'django', 'sql', 'html', 'css']\n",
        "\n",
        "# Insert 'git' at position with index 1\n",
        "techs.insert(1, 'git')\n",
        "\n",
        "# Insert 'aws' at the end of the list\n",
        "techs.append('aws')\n",
        "\n",
        "# Print the updated list to the console\n",
        "print(techs)\n"
      ],
      "metadata": {
        "colab": {
          "base_uri": "https://localhost:8080/"
        },
        "id": "_VjmvXggdtvA",
        "outputId": "79dbf8ee-5c59-4eaf-a07c-17b081634d24"
      },
      "execution_count": 4,
      "outputs": [
        {
          "output_type": "stream",
          "name": "stdout",
          "text": [
            "['python', 'git', 'django', 'sql', 'html', 'css', 'aws']\n"
          ]
        }
      ]
    }
  ]
}